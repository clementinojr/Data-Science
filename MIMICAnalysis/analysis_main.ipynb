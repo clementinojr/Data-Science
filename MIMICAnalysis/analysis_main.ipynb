{
 "cells": [
  {
   "cell_type": "markdown",
   "id": "4ee3c2e6-a438-4e68-937c-bc86e70c61a0",
   "metadata": {},
   "source": [
    "------------------------------------------------"
   ]
  },
  {
   "cell_type": "markdown",
   "id": "cfaf2149-82f6-44d5-bbaf-3a083ace7d04",
   "metadata": {},
   "source": [
    "Necessary imports"
   ]
  },
  {
   "cell_type": "code",
   "execution_count": 1,
   "id": "68cbcec8-8c5b-413e-be34-ed54145d0d05",
   "metadata": {},
   "outputs": [
    {
     "name": "stdout",
     "output_type": "stream",
     "text": [
      "Requirement already satisfied: pandasql in c:\\users\\junin\\anaconda3\\lib\\site-packages (0.7.3)\n",
      "Requirement already satisfied: sqlalchemy in c:\\users\\junin\\anaconda3\\lib\\site-packages (from pandasql) (1.4.22)\n",
      "Requirement already satisfied: numpy in c:\\users\\junin\\appdata\\roaming\\python\\python39\\site-packages (from pandasql) (1.22.3)\n",
      "Requirement already satisfied: pandas in c:\\users\\junin\\anaconda3\\lib\\site-packages (from pandasql) (1.3.4)\n",
      "Requirement already satisfied: pytz>=2017.3 in c:\\users\\junin\\anaconda3\\lib\\site-packages (from pandas->pandasql) (2021.3)\n",
      "Requirement already satisfied: python-dateutil>=2.7.3 in c:\\users\\junin\\appdata\\roaming\\python\\python39\\site-packages (from pandas->pandasql) (2.8.2)\n",
      "Requirement already satisfied: six>=1.5 in c:\\users\\junin\\anaconda3\\lib\\site-packages (from python-dateutil>=2.7.3->pandas->pandasql) (1.16.0)\n",
      "Requirement already satisfied: greenlet!=0.4.17 in c:\\users\\junin\\anaconda3\\lib\\site-packages (from sqlalchemy->pandasql) (1.1.1)\n"
     ]
    },
    {
     "name": "stderr",
     "output_type": "stream",
     "text": [
      "WARNING: Ignoring invalid distribution -atplotlib (c:\\users\\junin\\anaconda3\\lib\\site-packages)\n",
      "WARNING: Ignoring invalid distribution -atplotlib (c:\\users\\junin\\anaconda3\\lib\\site-packages)\n",
      "WARNING: Ignoring invalid distribution -atplotlib (c:\\users\\junin\\anaconda3\\lib\\site-packages)\n",
      "WARNING: Ignoring invalid distribution -atplotlib (c:\\users\\junin\\anaconda3\\lib\\site-packages)\n",
      "WARNING: Ignoring invalid distribution -atplotlib (c:\\users\\junin\\anaconda3\\lib\\site-packages)\n",
      "WARNING: Ignoring invalid distribution -atplotlib (c:\\users\\junin\\anaconda3\\lib\\site-packages)\n"
     ]
    }
   ],
   "source": [
    "import pandas as pd\n",
    "import os \n",
    "import glob\n",
    "! pip install pandasql\n",
    "from pandasql import sqldf\n",
    "import json\n",
    "import warnings\n",
    "warnings.filterwarnings('ignore')"
   ]
  },
  {
   "cell_type": "code",
   "execution_count": 2,
   "id": "ea843cd8-8973-4ac6-b5c9-bc8352ff4122",
   "metadata": {},
   "outputs": [],
   "source": [
    "current_directory = os.getcwd()\n",
    "mydir = current_directory\n",
    "file_list = glob.glob(mydir + \"/*.csv\")"
   ]
  },
  {
   "cell_type": "code",
   "execution_count": 3,
   "id": "5c309434-fb90-4f3b-8782-82c037bc6a82",
   "metadata": {},
   "outputs": [
    {
     "data": {
      "text/plain": [
       "['C:\\\\Users\\\\junin\\\\Documents\\\\Data-Science\\\\MIMICAnalysis\\\\admissions.csv',\n",
       " 'C:\\\\Users\\\\junin\\\\Documents\\\\Data-Science\\\\MIMICAnalysis\\\\d_labitems.csv',\n",
       " 'C:\\\\Users\\\\junin\\\\Documents\\\\Data-Science\\\\MIMICAnalysis\\\\edstays.csv',\n",
       " 'C:\\\\Users\\\\junin\\\\Documents\\\\Data-Science\\\\MIMICAnalysis\\\\labevents.csv']"
      ]
     },
     "execution_count": 3,
     "metadata": {},
     "output_type": "execute_result"
    }
   ],
   "source": [
    "file_list"
   ]
  },
  {
   "cell_type": "code",
   "execution_count": 4,
   "id": "64348288-11a5-4310-9ac9-5bbf4cf78243",
   "metadata": {},
   "outputs": [],
   "source": [
    "list_df = []\n",
    "for i in file_list:\n",
    "    df = pd.read_csv(i)\n",
    "    list_df.append(df)"
   ]
  },
  {
   "cell_type": "code",
   "execution_count": 5,
   "id": "0bdff428-8b7b-429e-abf1-578d9c966cb0",
   "metadata": {},
   "outputs": [],
   "source": [
    "df_admissions = list_df[0]\n",
    "df_labitems = list_df[1]\n",
    "df_edstays = list_df[2]\n",
    "df_labevents = list_df[3]"
   ]
  },
  {
   "cell_type": "markdown",
   "id": "e3e9744e-e90f-4fd2-b9ba-0368b843e4c8",
   "metadata": {},
   "source": [
    "## Reading the data"
   ]
  },
  {
   "cell_type": "code",
   "execution_count": 6,
   "id": "d2f6936f-b7a1-4a79-9d00-ad976ec8cb47",
   "metadata": {},
   "outputs": [
    {
     "data": {
      "text/html": [
       "<div>\n",
       "<style scoped>\n",
       "    .dataframe tbody tr th:only-of-type {\n",
       "        vertical-align: middle;\n",
       "    }\n",
       "\n",
       "    .dataframe tbody tr th {\n",
       "        vertical-align: top;\n",
       "    }\n",
       "\n",
       "    .dataframe thead th {\n",
       "        text-align: right;\n",
       "    }\n",
       "</style>\n",
       "<table border=\"1\" class=\"dataframe\">\n",
       "  <thead>\n",
       "    <tr style=\"text-align: right;\">\n",
       "      <th></th>\n",
       "      <th>subject_id</th>\n",
       "      <th>hadm_id</th>\n",
       "      <th>admittime</th>\n",
       "      <th>dischtime</th>\n",
       "      <th>deathtime</th>\n",
       "      <th>admission_type</th>\n",
       "      <th>admission_location</th>\n",
       "      <th>discharge_location</th>\n",
       "      <th>insurance</th>\n",
       "      <th>language</th>\n",
       "      <th>marital_status</th>\n",
       "      <th>ethnicity</th>\n",
       "      <th>edregtime</th>\n",
       "      <th>edouttime</th>\n",
       "      <th>hospital_expire_flag</th>\n",
       "    </tr>\n",
       "  </thead>\n",
       "  <tbody>\n",
       "    <tr>\n",
       "      <th>0</th>\n",
       "      <td>10004235</td>\n",
       "      <td>24181354</td>\n",
       "      <td>2196-02-24T14:38:00</td>\n",
       "      <td>2196-03-04T14:02:00</td>\n",
       "      <td>NaN</td>\n",
       "      <td>URGENT</td>\n",
       "      <td>TRANSFER FROM HOSPITAL</td>\n",
       "      <td>SKILLED NURSING FACILITY</td>\n",
       "      <td>Medicaid</td>\n",
       "      <td>ENGLISH</td>\n",
       "      <td>SINGLE</td>\n",
       "      <td>BLACK/AFRICAN AMERICAN</td>\n",
       "      <td>2196-02-24T12:15:00</td>\n",
       "      <td>2196-02-24T17:07:00</td>\n",
       "      <td>0</td>\n",
       "    </tr>\n",
       "    <tr>\n",
       "      <th>1</th>\n",
       "      <td>10009628</td>\n",
       "      <td>25926192</td>\n",
       "      <td>2153-09-17T17:08:00</td>\n",
       "      <td>2153-09-25T13:20:00</td>\n",
       "      <td>NaN</td>\n",
       "      <td>URGENT</td>\n",
       "      <td>TRANSFER FROM HOSPITAL</td>\n",
       "      <td>HOME HEALTH CARE</td>\n",
       "      <td>Medicaid</td>\n",
       "      <td>?</td>\n",
       "      <td>MARRIED</td>\n",
       "      <td>HISPANIC/LATINO</td>\n",
       "      <td>NaN</td>\n",
       "      <td>NaN</td>\n",
       "      <td>0</td>\n",
       "    </tr>\n",
       "    <tr>\n",
       "      <th>2</th>\n",
       "      <td>10018081</td>\n",
       "      <td>23983182</td>\n",
       "      <td>2134-08-18T02:02:00</td>\n",
       "      <td>2134-08-23T19:35:00</td>\n",
       "      <td>NaN</td>\n",
       "      <td>URGENT</td>\n",
       "      <td>TRANSFER FROM HOSPITAL</td>\n",
       "      <td>SKILLED NURSING FACILITY</td>\n",
       "      <td>Medicare</td>\n",
       "      <td>ENGLISH</td>\n",
       "      <td>MARRIED</td>\n",
       "      <td>WHITE</td>\n",
       "      <td>2134-08-17T16:24:00</td>\n",
       "      <td>2134-08-18T03:15:00</td>\n",
       "      <td>0</td>\n",
       "    </tr>\n",
       "    <tr>\n",
       "      <th>3</th>\n",
       "      <td>10006053</td>\n",
       "      <td>22942076</td>\n",
       "      <td>2111-11-13T23:39:00</td>\n",
       "      <td>2111-11-15T17:20:00</td>\n",
       "      <td>2111-11-15T17:20:00</td>\n",
       "      <td>URGENT</td>\n",
       "      <td>TRANSFER FROM HOSPITAL</td>\n",
       "      <td>DIED</td>\n",
       "      <td>Medicaid</td>\n",
       "      <td>ENGLISH</td>\n",
       "      <td>NaN</td>\n",
       "      <td>UNKNOWN</td>\n",
       "      <td>NaN</td>\n",
       "      <td>NaN</td>\n",
       "      <td>1</td>\n",
       "    </tr>\n",
       "    <tr>\n",
       "      <th>4</th>\n",
       "      <td>10031404</td>\n",
       "      <td>21606243</td>\n",
       "      <td>2113-08-04T18:46:00</td>\n",
       "      <td>2113-08-06T20:57:00</td>\n",
       "      <td>NaN</td>\n",
       "      <td>URGENT</td>\n",
       "      <td>TRANSFER FROM HOSPITAL</td>\n",
       "      <td>HOME</td>\n",
       "      <td>Other</td>\n",
       "      <td>ENGLISH</td>\n",
       "      <td>WIDOWED</td>\n",
       "      <td>WHITE</td>\n",
       "      <td>NaN</td>\n",
       "      <td>NaN</td>\n",
       "      <td>0</td>\n",
       "    </tr>\n",
       "  </tbody>\n",
       "</table>\n",
       "</div>"
      ],
      "text/plain": [
       "   subject_id   hadm_id            admittime            dischtime  \\\n",
       "0    10004235  24181354  2196-02-24T14:38:00  2196-03-04T14:02:00   \n",
       "1    10009628  25926192  2153-09-17T17:08:00  2153-09-25T13:20:00   \n",
       "2    10018081  23983182  2134-08-18T02:02:00  2134-08-23T19:35:00   \n",
       "3    10006053  22942076  2111-11-13T23:39:00  2111-11-15T17:20:00   \n",
       "4    10031404  21606243  2113-08-04T18:46:00  2113-08-06T20:57:00   \n",
       "\n",
       "             deathtime admission_type      admission_location  \\\n",
       "0                  NaN         URGENT  TRANSFER FROM HOSPITAL   \n",
       "1                  NaN         URGENT  TRANSFER FROM HOSPITAL   \n",
       "2                  NaN         URGENT  TRANSFER FROM HOSPITAL   \n",
       "3  2111-11-15T17:20:00         URGENT  TRANSFER FROM HOSPITAL   \n",
       "4                  NaN         URGENT  TRANSFER FROM HOSPITAL   \n",
       "\n",
       "         discharge_location insurance language marital_status  \\\n",
       "0  SKILLED NURSING FACILITY  Medicaid  ENGLISH         SINGLE   \n",
       "1          HOME HEALTH CARE  Medicaid        ?        MARRIED   \n",
       "2  SKILLED NURSING FACILITY  Medicare  ENGLISH        MARRIED   \n",
       "3                      DIED  Medicaid  ENGLISH            NaN   \n",
       "4                      HOME     Other  ENGLISH        WIDOWED   \n",
       "\n",
       "                ethnicity            edregtime            edouttime  \\\n",
       "0  BLACK/AFRICAN AMERICAN  2196-02-24T12:15:00  2196-02-24T17:07:00   \n",
       "1         HISPANIC/LATINO                  NaN                  NaN   \n",
       "2                   WHITE  2134-08-17T16:24:00  2134-08-18T03:15:00   \n",
       "3                 UNKNOWN                  NaN                  NaN   \n",
       "4                   WHITE                  NaN                  NaN   \n",
       "\n",
       "   hospital_expire_flag  \n",
       "0                     0  \n",
       "1                     0  \n",
       "2                     0  \n",
       "3                     1  \n",
       "4                     0  "
      ]
     },
     "execution_count": 6,
     "metadata": {},
     "output_type": "execute_result"
    }
   ],
   "source": [
    "df_admissions.head(5)"
   ]
  },
  {
   "cell_type": "code",
   "execution_count": 7,
   "id": "f5e1e966-6224-453f-9ba5-eca6864f892b",
   "metadata": {},
   "outputs": [
    {
     "data": {
      "text/html": [
       "<div>\n",
       "<style scoped>\n",
       "    .dataframe tbody tr th:only-of-type {\n",
       "        vertical-align: middle;\n",
       "    }\n",
       "\n",
       "    .dataframe tbody tr th {\n",
       "        vertical-align: top;\n",
       "    }\n",
       "\n",
       "    .dataframe thead th {\n",
       "        text-align: right;\n",
       "    }\n",
       "</style>\n",
       "<table border=\"1\" class=\"dataframe\">\n",
       "  <thead>\n",
       "    <tr style=\"text-align: right;\">\n",
       "      <th></th>\n",
       "      <th>subject_id</th>\n",
       "      <th>hadm_id</th>\n",
       "      <th>stay_id</th>\n",
       "      <th>intime</th>\n",
       "      <th>outtime</th>\n",
       "    </tr>\n",
       "  </thead>\n",
       "  <tbody>\n",
       "    <tr>\n",
       "      <th>0</th>\n",
       "      <td>10014729</td>\n",
       "      <td>23300884.0</td>\n",
       "      <td>32435236</td>\n",
       "      <td>2125-03-19T12:36:00</td>\n",
       "      <td>2125-03-19T16:59:47</td>\n",
       "    </tr>\n",
       "    <tr>\n",
       "      <th>1</th>\n",
       "      <td>10004235</td>\n",
       "      <td>24181354.0</td>\n",
       "      <td>36583389</td>\n",
       "      <td>2196-02-24T12:15:00</td>\n",
       "      <td>2196-02-24T17:07:00</td>\n",
       "    </tr>\n",
       "    <tr>\n",
       "      <th>2</th>\n",
       "      <td>10026255</td>\n",
       "      <td>22059910.0</td>\n",
       "      <td>30926886</td>\n",
       "      <td>2201-07-07T12:31:00</td>\n",
       "      <td>2201-07-07T19:40:00</td>\n",
       "    </tr>\n",
       "    <tr>\n",
       "      <th>3</th>\n",
       "      <td>10026255</td>\n",
       "      <td>20437651.0</td>\n",
       "      <td>36948716</td>\n",
       "      <td>2200-09-17T18:38:00</td>\n",
       "      <td>2200-09-18T00:57:00</td>\n",
       "    </tr>\n",
       "    <tr>\n",
       "      <th>4</th>\n",
       "      <td>10007058</td>\n",
       "      <td>22954658.0</td>\n",
       "      <td>35770266</td>\n",
       "      <td>2167-11-07T17:57:00</td>\n",
       "      <td>2167-11-07T20:22:00</td>\n",
       "    </tr>\n",
       "  </tbody>\n",
       "</table>\n",
       "</div>"
      ],
      "text/plain": [
       "   subject_id     hadm_id   stay_id               intime              outtime\n",
       "0    10014729  23300884.0  32435236  2125-03-19T12:36:00  2125-03-19T16:59:47\n",
       "1    10004235  24181354.0  36583389  2196-02-24T12:15:00  2196-02-24T17:07:00\n",
       "2    10026255  22059910.0  30926886  2201-07-07T12:31:00  2201-07-07T19:40:00\n",
       "3    10026255  20437651.0  36948716  2200-09-17T18:38:00  2200-09-18T00:57:00\n",
       "4    10007058  22954658.0  35770266  2167-11-07T17:57:00  2167-11-07T20:22:00"
      ]
     },
     "execution_count": 7,
     "metadata": {},
     "output_type": "execute_result"
    }
   ],
   "source": [
    "df_edstays.head(5)"
   ]
  },
  {
   "cell_type": "code",
   "execution_count": 8,
   "id": "e7053bf3-714e-45fd-b65d-289b8f71e96b",
   "metadata": {},
   "outputs": [
    {
     "data": {
      "text/html": [
       "<div>\n",
       "<style scoped>\n",
       "    .dataframe tbody tr th:only-of-type {\n",
       "        vertical-align: middle;\n",
       "    }\n",
       "\n",
       "    .dataframe tbody tr th {\n",
       "        vertical-align: top;\n",
       "    }\n",
       "\n",
       "    .dataframe thead th {\n",
       "        text-align: right;\n",
       "    }\n",
       "</style>\n",
       "<table border=\"1\" class=\"dataframe\">\n",
       "  <thead>\n",
       "    <tr style=\"text-align: right;\">\n",
       "      <th></th>\n",
       "      <th>labevent_id</th>\n",
       "      <th>subject_id</th>\n",
       "      <th>hadm_id</th>\n",
       "      <th>specimen_id</th>\n",
       "      <th>itemid</th>\n",
       "      <th>charttime</th>\n",
       "      <th>storetime</th>\n",
       "      <th>value</th>\n",
       "      <th>valuenum</th>\n",
       "      <th>valueuom</th>\n",
       "      <th>ref_range_lower</th>\n",
       "      <th>ref_range_upper</th>\n",
       "      <th>flag</th>\n",
       "      <th>priority</th>\n",
       "      <th>comments</th>\n",
       "    </tr>\n",
       "  </thead>\n",
       "  <tbody>\n",
       "    <tr>\n",
       "      <th>0</th>\n",
       "      <td>183881</td>\n",
       "      <td>10014354</td>\n",
       "      <td>29600294.0</td>\n",
       "      <td>1808066</td>\n",
       "      <td>51277</td>\n",
       "      <td>2148-08-16 00:00:00</td>\n",
       "      <td>2148-08-16 01:30:00</td>\n",
       "      <td>15.4</td>\n",
       "      <td>15.4</td>\n",
       "      <td>%</td>\n",
       "      <td>10.5</td>\n",
       "      <td>15.5</td>\n",
       "      <td>NaN</td>\n",
       "      <td>ROUTINE</td>\n",
       "      <td>NaN</td>\n",
       "    </tr>\n",
       "    <tr>\n",
       "      <th>1</th>\n",
       "      <td>183883</td>\n",
       "      <td>10014354</td>\n",
       "      <td>29600294.0</td>\n",
       "      <td>1808066</td>\n",
       "      <td>51301</td>\n",
       "      <td>2148-08-16 00:00:00</td>\n",
       "      <td>2148-08-16 01:30:00</td>\n",
       "      <td>20.3</td>\n",
       "      <td>20.3</td>\n",
       "      <td>K/uL</td>\n",
       "      <td>4.0</td>\n",
       "      <td>10.0</td>\n",
       "      <td>abnormal</td>\n",
       "      <td>ROUTINE</td>\n",
       "      <td>NaN</td>\n",
       "    </tr>\n",
       "    <tr>\n",
       "      <th>2</th>\n",
       "      <td>183888</td>\n",
       "      <td>10014354</td>\n",
       "      <td>29600294.0</td>\n",
       "      <td>1808066</td>\n",
       "      <td>52167</td>\n",
       "      <td>2148-08-16 00:00:00</td>\n",
       "      <td>2148-08-16 01:30:00</td>\n",
       "      <td>49.7</td>\n",
       "      <td>49.7</td>\n",
       "      <td>fL</td>\n",
       "      <td>35.1</td>\n",
       "      <td>46.3</td>\n",
       "      <td>abnormal</td>\n",
       "      <td>ROUTINE</td>\n",
       "      <td>NaN</td>\n",
       "    </tr>\n",
       "    <tr>\n",
       "      <th>3</th>\n",
       "      <td>183870</td>\n",
       "      <td>10014354</td>\n",
       "      <td>29600294.0</td>\n",
       "      <td>1808066</td>\n",
       "      <td>51249</td>\n",
       "      <td>2148-08-16 00:00:00</td>\n",
       "      <td>2148-08-16 01:30:00</td>\n",
       "      <td>31.1</td>\n",
       "      <td>31.1</td>\n",
       "      <td>g/dL</td>\n",
       "      <td>32.0</td>\n",
       "      <td>37.0</td>\n",
       "      <td>abnormal</td>\n",
       "      <td>ROUTINE</td>\n",
       "      <td>NaN</td>\n",
       "    </tr>\n",
       "    <tr>\n",
       "      <th>4</th>\n",
       "      <td>183865</td>\n",
       "      <td>10014354</td>\n",
       "      <td>29600294.0</td>\n",
       "      <td>1808066</td>\n",
       "      <td>51222</td>\n",
       "      <td>2148-08-16 00:00:00</td>\n",
       "      <td>2148-08-16 01:30:00</td>\n",
       "      <td>9.2</td>\n",
       "      <td>9.2</td>\n",
       "      <td>g/dL</td>\n",
       "      <td>13.7</td>\n",
       "      <td>17.5</td>\n",
       "      <td>abnormal</td>\n",
       "      <td>ROUTINE</td>\n",
       "      <td>NaN</td>\n",
       "    </tr>\n",
       "  </tbody>\n",
       "</table>\n",
       "</div>"
      ],
      "text/plain": [
       "   labevent_id  subject_id     hadm_id  specimen_id  itemid  \\\n",
       "0       183881    10014354  29600294.0      1808066   51277   \n",
       "1       183883    10014354  29600294.0      1808066   51301   \n",
       "2       183888    10014354  29600294.0      1808066   52167   \n",
       "3       183870    10014354  29600294.0      1808066   51249   \n",
       "4       183865    10014354  29600294.0      1808066   51222   \n",
       "\n",
       "             charttime            storetime value  valuenum valueuom  \\\n",
       "0  2148-08-16 00:00:00  2148-08-16 01:30:00  15.4      15.4        %   \n",
       "1  2148-08-16 00:00:00  2148-08-16 01:30:00  20.3      20.3     K/uL   \n",
       "2  2148-08-16 00:00:00  2148-08-16 01:30:00  49.7      49.7       fL   \n",
       "3  2148-08-16 00:00:00  2148-08-16 01:30:00  31.1      31.1     g/dL   \n",
       "4  2148-08-16 00:00:00  2148-08-16 01:30:00   9.2       9.2     g/dL   \n",
       "\n",
       "   ref_range_lower  ref_range_upper      flag priority comments  \n",
       "0             10.5             15.5       NaN  ROUTINE      NaN  \n",
       "1              4.0             10.0  abnormal  ROUTINE      NaN  \n",
       "2             35.1             46.3  abnormal  ROUTINE      NaN  \n",
       "3             32.0             37.0  abnormal  ROUTINE      NaN  \n",
       "4             13.7             17.5  abnormal  ROUTINE      NaN  "
      ]
     },
     "execution_count": 8,
     "metadata": {},
     "output_type": "execute_result"
    }
   ],
   "source": [
    "df_labevents.head(5)"
   ]
  },
  {
   "cell_type": "code",
   "execution_count": 9,
   "id": "75ac0312-7b2e-4556-8b5d-bd76748de9b0",
   "metadata": {},
   "outputs": [
    {
     "data": {
      "text/html": [
       "<div>\n",
       "<style scoped>\n",
       "    .dataframe tbody tr th:only-of-type {\n",
       "        vertical-align: middle;\n",
       "    }\n",
       "\n",
       "    .dataframe tbody tr th {\n",
       "        vertical-align: top;\n",
       "    }\n",
       "\n",
       "    .dataframe thead th {\n",
       "        text-align: right;\n",
       "    }\n",
       "</style>\n",
       "<table border=\"1\" class=\"dataframe\">\n",
       "  <thead>\n",
       "    <tr style=\"text-align: right;\">\n",
       "      <th></th>\n",
       "      <th>itemid</th>\n",
       "      <th>label</th>\n",
       "      <th>fluid</th>\n",
       "      <th>category</th>\n",
       "      <th>loinc_code</th>\n",
       "    </tr>\n",
       "  </thead>\n",
       "  <tbody>\n",
       "    <tr>\n",
       "      <th>0</th>\n",
       "      <td>52016</td>\n",
       "      <td>Abz</td>\n",
       "      <td>Blood</td>\n",
       "      <td>Blood Gas</td>\n",
       "      <td>NaN</td>\n",
       "    </tr>\n",
       "    <tr>\n",
       "      <th>1</th>\n",
       "      <td>52017</td>\n",
       "      <td>Albumin, Blood</td>\n",
       "      <td>Blood</td>\n",
       "      <td>Blood Gas</td>\n",
       "      <td>NaN</td>\n",
       "    </tr>\n",
       "    <tr>\n",
       "      <th>2</th>\n",
       "      <td>50801</td>\n",
       "      <td>Alveolar-arterial Gradient</td>\n",
       "      <td>Blood</td>\n",
       "      <td>Blood Gas</td>\n",
       "      <td>NaN</td>\n",
       "    </tr>\n",
       "    <tr>\n",
       "      <th>3</th>\n",
       "      <td>52018</td>\n",
       "      <td>Assist/Control</td>\n",
       "      <td>Blood</td>\n",
       "      <td>Blood Gas</td>\n",
       "      <td>NaN</td>\n",
       "    </tr>\n",
       "    <tr>\n",
       "      <th>4</th>\n",
       "      <td>50802</td>\n",
       "      <td>Base Excess</td>\n",
       "      <td>Blood</td>\n",
       "      <td>Blood Gas</td>\n",
       "      <td>NaN</td>\n",
       "    </tr>\n",
       "  </tbody>\n",
       "</table>\n",
       "</div>"
      ],
      "text/plain": [
       "   itemid                       label  fluid   category loinc_code\n",
       "0   52016                         Abz  Blood  Blood Gas        NaN\n",
       "1   52017              Albumin, Blood  Blood  Blood Gas        NaN\n",
       "2   50801  Alveolar-arterial Gradient  Blood  Blood Gas        NaN\n",
       "3   52018              Assist/Control  Blood  Blood Gas        NaN\n",
       "4   50802                 Base Excess  Blood  Blood Gas        NaN"
      ]
     },
     "execution_count": 9,
     "metadata": {},
     "output_type": "execute_result"
    }
   ],
   "source": [
    "df_labitems.head(5)"
   ]
  },
  {
   "cell_type": "markdown",
   "id": "05333529-f37a-41ed-baf6-4c70bc758917",
   "metadata": {},
   "source": [
    " #  <span style=\"color:blue\">  1.\tWhat is the percentage of patients admitted to the hospital that have never been to the ED? </span>"
   ]
  },
  {
   "cell_type": "code",
   "execution_count": 10,
   "id": "ee80b085-42d6-42cd-9873-f8ff1ac2542f",
   "metadata": {},
   "outputs": [
    {
     "name": "stdout",
     "output_type": "stream",
     "text": [
      "100\n"
     ]
    }
   ],
   "source": [
    "# We have 100 patients in admissions table \n",
    "total_patients = len(df_admissions['subject_id'].unique())\n",
    "print(total_patients)"
   ]
  },
  {
   "cell_type": "code",
   "execution_count": 11,
   "id": "e4fb8fbe-285e-455a-b360-8a7f811c4c60",
   "metadata": {},
   "outputs": [],
   "source": [
    "#First i got all ED admissions\n",
    "df_emergency_room = df_admissions.query('admission_location==\"EMERGENCY ROOM\"')"
   ]
  },
  {
   "cell_type": "code",
   "execution_count": 12,
   "id": "a2ffc5b0-2183-47e7-9436-6f2fa94076c2",
   "metadata": {},
   "outputs": [],
   "source": [
    "#After that I removed all admissions that contain the type ED from the admissions table\n",
    "df_remove = df_admissions[~df_admissions.subject_id.isin(df_emergency_room.subject_id)]"
   ]
  },
  {
   "cell_type": "code",
   "execution_count": 13,
   "id": "dbd5079b-38da-4b2f-83d0-d831c726a3e1",
   "metadata": {},
   "outputs": [],
   "source": [
    "#In the sequence of the table that contains the different admissions of the ED type, the filter of single patients was performed\n",
    "total_dif = len(df_remove['subject_id'].unique())"
   ]
  },
  {
   "cell_type": "code",
   "execution_count": 14,
   "id": "7088803e-4184-4877-bb46-19ab513d80db",
   "metadata": {},
   "outputs": [
    {
     "name": "stdout",
     "output_type": "stream",
     "text": [
      "Percentage of patients admitted to the hospital that have never been to the ED is 39.0 %\n"
     ]
    }
   ],
   "source": [
    "#Calculation: of patients admitted to the hospital that have never been to the ED\n",
    "porcent = (total_dif/total_patients)*100\n",
    "print(f'Percentage of patients admitted to the hospital that have never been to the ED is {porcent} %')"
   ]
  },
  {
   "cell_type": "markdown",
   "id": "d6492f67-abda-47bc-b588-ec41ecbeb4d0",
   "metadata": {},
   "source": [
    " #  <span style=\"color:blue\">   2.\t\tFor each patient, generate a json with the hospital admission data. </span>"
   ]
  },
  {
   "cell_type": "markdown",
   "id": "1a831a35-1a6c-4b7b-b970-960d6136e483",
   "metadata": {},
   "source": [
    "* My primary interpretation was to store all patients in a single JSON file, in which they can be identified by their respective ids/subject_id.\n",
    "\n",
    "\n",
    "* However, there is also the possibility of creating a JSON file for each patient. This can be easily performed with simple coding changes."
   ]
  },
  {
   "cell_type": "markdown",
   "id": "aae7945c-5368-4d4a-a8f1-f76060753f02",
   "metadata": {},
   "source": [
    "##### I created two JSON files. In simple_admission.json only the data contained in the admissions table is present."
   ]
  },
  {
   "cell_type": "code",
   "execution_count": 15,
   "id": "82a708de-465f-451c-8771-fcfa24ec5fa6",
   "metadata": {},
   "outputs": [],
   "source": [
    "list_att = df_admissions.columns[1:]\n",
    "d = (df_admissions.groupby(['subject_id'])[list_att]\n",
    "       .apply(lambda x: x.to_dict('r')).to_json())\n",
    "simple_json_object = json.loads(d)"
   ]
  },
  {
   "cell_type": "code",
   "execution_count": 17,
   "id": "db7beb0e-601b-4d63-8b69-30f97bac70ad",
   "metadata": {},
   "outputs": [],
   "source": [
    "for key in simple_json_object.keys():\n",
    "    json_patient = simple_json_object[key]\n",
    "    with open(f'{mydir}\\\\simple_admission_patients\\\\{key}.json', 'w') as fp:\n",
    "        json.dump(json_patient, fp)"
   ]
  },
  {
   "cell_type": "code",
   "execution_count": 18,
   "id": "9162be54-bc2f-4539-9cda-826f4e03a647",
   "metadata": {},
   "outputs": [],
   "source": [
    "with open('simple_admission.json', 'w') as fp:\n",
    "    json.dump(simple_json_object, fp)"
   ]
  },
  {
   "cell_type": "code",
   "execution_count": 19,
   "id": "20d54a81-91ba-43da-abb0-1cf08ba39af7",
   "metadata": {},
   "outputs": [],
   "source": [
    "##### The full admission.json contains all the exam results, stay that inherit the admissions of the patients through the relationships of the tables: df_edstays, df_labevents, and df_labitems."
   ]
  },
  {
   "cell_type": "code",
   "execution_count": 20,
   "id": "7b5209b0-80ea-4f8a-9059-c0dedb1ee440",
   "metadata": {},
   "outputs": [],
   "source": [
    "query = \"\"\"SELECT   df_admissions.subject_id,\tdf_admissions.hadm_id,\tdf_admissions.admittime,\tdf_admissions.dischtime,\tdf_admissions.deathtime,\tdf_admissions.admission_type,\tdf_admissions.admission_location,\tdf_admissions.discharge_location,\tdf_admissions.insurance,\tdf_admissions.language,\tdf_admissions.marital_status,\tdf_admissions.ethnicity,\tdf_admissions.edregtime,\tdf_admissions.edouttime,\tdf_admissions.hospital_expire_flag,\n",
    "\n",
    "df_edstays.stay_id, df_edstays.intime stay_intime, df_edstays.outtime stay_outime,\n",
    "\n",
    "df_labevents.labevent_id, df_labevents.specimen_id labE_specimen_id, df_labevents.itemid labE_itemid,\tdf_labevents.charttime labE_charttime,\tdf_labevents.storetime labE_storetime,\tdf_labevents.value labE_value,\tdf_labevents.valuenum labE_valuenum,\tdf_labevents.valueuom labE_valueuom,\tdf_labevents.ref_range_lower labE_ref_range_lower,\tdf_labevents.ref_range_upper labE_ref_range_upper,\tdf_labevents.flag labE_flag,\tdf_labevents.priority labE_priority,\tdf_labevents.comments labE_comments,\n",
    "\n",
    "\n",
    "df_labitems.label labI_label,\tdf_labitems.fluid labI_fluid,\tdf_labitems.category labI_category,\tdf_labitems.loinc_code labI_loinc_code\n",
    "\n",
    "\n",
    "from  df_admissions \n",
    "\n",
    "\n",
    "LEFT JOIN df_edstays on df_edstays.hadm_id = df_admissions.hadm_id\n",
    "\n",
    "LEFT JOIN df_labevents on df_labevents.hadm_id = df_admissions.hadm_id\n",
    "\n",
    "INNER JOIN df_labitems on df_labitems.itemid = df_labevents.itemid;\n",
    "\n",
    "\"\"\"\n",
    "\n",
    "df_query_resul =sqldf(query, globals())"
   ]
  },
  {
   "cell_type": "code",
   "execution_count": 21,
   "id": "e111708d-023f-4004-b77c-a342afd5ec70",
   "metadata": {},
   "outputs": [],
   "source": [
    "list_att = df_query_resul.columns[1:]\n",
    "d = (df_query_resul.groupby(['subject_id'])[list_att]\n",
    "       .apply(lambda x: x.to_dict('r')).to_json())\n",
    "full_json_object = json.loads(d)"
   ]
  },
  {
   "cell_type": "code",
   "execution_count": 22,
   "id": "4ee477de-8f44-4f32-816a-1a58457bd88a",
   "metadata": {},
   "outputs": [],
   "source": [
    "for key in full_json_object.keys():\n",
    "    json_patient = full_json_object[key]\n",
    "    with open(f'{mydir}\\\\full_admission_patients\\\\{key}.json', 'w') as fp:\n",
    "        json.dump(json_patient, fp)"
   ]
  },
  {
   "cell_type": "code",
   "execution_count": 23,
   "id": "60e5924c-1793-475f-822f-30c2b56a2054",
   "metadata": {},
   "outputs": [],
   "source": [
    "with open('full_admission.json', 'w') as fp:\n",
    "    json.dump(full_json_object, fp)"
   ]
  },
  {
   "cell_type": "code",
   "execution_count": null,
   "id": "cd0b092c-27a7-4fde-86b9-7cc708d38730",
   "metadata": {},
   "outputs": [],
   "source": []
  }
 ],
 "metadata": {
  "kernelspec": {
   "display_name": "base",
   "language": "python",
   "name": "base"
  },
  "language_info": {
   "codemirror_mode": {
    "name": "ipython",
    "version": 3
   },
   "file_extension": ".py",
   "mimetype": "text/x-python",
   "name": "python",
   "nbconvert_exporter": "python",
   "pygments_lexer": "ipython3",
   "version": "3.9.7"
  }
 },
 "nbformat": 4,
 "nbformat_minor": 5
}
